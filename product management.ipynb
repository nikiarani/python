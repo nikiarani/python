{
 "cells": [
  {
   "cell_type": "code",
   "execution_count": null,
   "id": "9a532dda",
   "metadata": {},
   "outputs": [],
   "source": [
    "def add_product(price,name,products):\n",
    "    for product in products:\n",
    "        if product[\"name\"].lower()==name.lower():\n",
    "            print(\"error,it exist\")\n",
    "            return\n",
    "    products.append({\"name\":name,\"price\":float(price)})\n",
    "    print(\"product added\")\n",
    "    \n",
    "def delete_product(price,name,products):\n",
    "    for product in products :\n",
    "        if product[\"name\"].lower() == name.lower():\n",
    "            products.remove(product)\n",
    "            print(f\"{name} is deleted.\")\n",
    "            return\n",
    "    print(f\"Product {name} does not exist.\")\n",
    "    \n",
    "def edit_product(name,newname,newprice,products):\n",
    "    for product in products:\n",
    "        if product[\"name\"].lower == newname.lower:\n",
    "            product['name']=newname\n",
    "            product['price'] = newprice\n",
    "            print(f\"{name} is edited.\")\n",
    "            return\n",
    "    \n",
    "\n",
    "        "
   ]
  }
 ],
 "metadata": {
  "kernelspec": {
   "display_name": "Python 3 (ipykernel)",
   "language": "python",
   "name": "python3"
  },
  "language_info": {
   "codemirror_mode": {
    "name": "ipython",
    "version": 3
   },
   "file_extension": ".py",
   "mimetype": "text/x-python",
   "name": "python",
   "nbconvert_exporter": "python",
   "pygments_lexer": "ipython3",
   "version": "3.11.4"
  }
 },
 "nbformat": 4,
 "nbformat_minor": 5
}
